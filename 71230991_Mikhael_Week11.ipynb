{
 "cells": [
  {
   "cell_type": "code",
   "execution_count": 1,
   "metadata": {},
   "outputs": [
    {
     "name": "stdout",
     "output_type": "stream",
     "text": [
      "key\tvalue\titem\n",
      "1\t 10\t 1\n",
      "2\t 20\t 2\n",
      "3\t 30\t 3\n",
      "4\t 40\t 4\n",
      "5\t 50\t 5\n",
      "6\t 60\t 6\n"
     ]
    }
   ],
   "source": [
    "dictionary = {1 : 10, 2 : 20, 3 : 30, 4 : 40, 5 : 50, 6 : 60}\n",
    "\n",
    "print(\"key\", \"value\", \"item\", sep = \"\\t\")\n",
    "\n",
    "for key in dictionary:\n",
    "    value = dictionary[key]\n",
    "    print(key, value, (key), sep = \"\\t \")\n"
   ]
  },
  {
   "cell_type": "code",
   "execution_count": 2,
   "metadata": {},
   "outputs": [
    {
     "name": "stdout",
     "output_type": "stream",
     "text": [
      "{'red': '#FF0000', 'green': '#008000', 'blue': '#0000FF'}\n"
     ]
    }
   ],
   "source": [
    "lista = []\n",
    "while True:\n",
    "    isiList1 = input(\"Masukkan isi list! (ketik 'asiap' untuk lanjut ke list selanjutnya) : \")\n",
    "    if isiList1.lower() == \"asiap\":\n",
    "        break\n",
    "    else:\n",
    "        lista.append(isiList1)\n",
    "        \n",
    "listb = []\n",
    "while True:\n",
    "    isiList2 = input(\"Masukkan isi list! (ketik 'asiap' lagi untuk selesai) : \")\n",
    "    if isiList2.lower() == \"asiap\":\n",
    "        break\n",
    "    else:\n",
    "        listb.append(isiList2)\n",
    "\n",
    "hasil = dict(zip(lista , listb))\n",
    "print (hasil)"
   ]
  },
  {
   "cell_type": "code",
   "execution_count": 4,
   "metadata": {},
   "outputs": [
    {
     "name": "stdout",
     "output_type": "stream",
     "text": [
      "{'stephen.marquard@uct.ac.za': 2, 'louis@media.berkeley.edu': 3, 'zqian@umich.edu': 4, 'rjlowe@iupui.edu': 2, 'cwen@iupui.edu': 5, 'gsilver@umich.edu': 3, 'wagnermr@iupui.edu': 1, 'antranig@caret.cam.ac.uk': 1, 'gopal.ramasammycook@gmail.com': 1, 'david.horwitz@uct.ac.za': 4, 'ray@media.berkeley.edu': 1}\n"
     ]
    }
   ],
   "source": [
    "File_name = input(\"Masukkan nama file beserta formatnya : \")\n",
    "file = open(File_name,\"r\")\n",
    "\n",
    "histogram = dict()\n",
    "for i in file:\n",
    "    if i.startswith(\"From \"):\n",
    "        bagi = i.split()[1]\n",
    "        histogram[bagi] = histogram.get(bagi, 0) + 1\n",
    "print(histogram)"
   ]
  },
  {
   "cell_type": "code",
   "execution_count": 5,
   "metadata": {},
   "outputs": [
    {
     "name": "stdout",
     "output_type": "stream",
     "text": [
      "{'uct.ac.za': 6, 'media.berkeley.edu': 4, 'umich.edu': 7, 'iupui.edu': 8, 'caret.cam.ac.uk': 1, 'gmail.com': 1}\n"
     ]
    }
   ],
   "source": [
    "File_name = input(\"Masukkan nama file beserta formatnya : \")\n",
    "file = open(File_name, \"r\")\n",
    "\n",
    "jumlah_pesan = {}\n",
    "for i in file:\n",
    "    if i.startswith(\"From \"):\n",
    "        kata = i.split()\n",
    "        email = kata[1]\n",
    "        cari_email = email.find(\"@\")\n",
    "        isi_email = email[cari_email + 1:]\n",
    "        jumlah_pesan[isi_email] = jumlah_pesan.get(isi_email, 0) + 1\n",
    "file.close()\n",
    "\n",
    "print(jumlah_pesan)"
   ]
  }
 ],
 "metadata": {
  "kernelspec": {
   "display_name": "Python 3",
   "language": "python",
   "name": "python3"
  },
  "language_info": {
   "codemirror_mode": {
    "name": "ipython",
    "version": 3
   },
   "file_extension": ".py",
   "mimetype": "text/x-python",
   "name": "python",
   "nbconvert_exporter": "python",
   "pygments_lexer": "ipython3",
   "version": "3.12.1"
  }
 },
 "nbformat": 4,
 "nbformat_minor": 2
}
